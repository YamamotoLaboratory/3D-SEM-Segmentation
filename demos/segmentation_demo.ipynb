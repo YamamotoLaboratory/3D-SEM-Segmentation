{
 "cells": [
  {
   "cell_type": "code",
   "execution_count": 1,
   "metadata": {},
   "outputs": [
    {
     "name": "stdout",
     "output_type": "stream",
     "text": [
      "tensorflow version:2.4.1\n",
      "pandas version:1.2.3\n",
      "numpy version:1.22.3\n",
      "matplotlib version:3.3.4\n"
     ]
    }
   ],
   "source": [
    "import tensorflow as tf\n",
    "import numpy as np\n",
    "import pandas as pd\n",
    "import matplotlib\n",
    "import matplotlib.pyplot as plt\n",
    "\n",
    "print('tensorflow version:{0}'.format(tf.__version__))\n",
    "print('pandas version:{0}'.format(pd.__version__))\n",
    "print('numpy version:{0}'.format(np.__version__))\n",
    "print('matplotlib version:{0}'.format(matplotlib.__version__))"
   ]
  },
  {
   "cell_type": "code",
   "execution_count": null,
   "metadata": {},
   "outputs": [],
   "source": [
    "# 図の大枠に関する設定\n",
    "plt.rcParams[\"figure.figsize\"] = [7.2, 5.4]  # 図の縦横のサイズ([横(inch),縦(inch)])\n",
    "plt.rcParams[\"figure.dpi\"] = 150  # dpi(dots per inch)\n",
    "plt.rcParams[\"figure.autolayout\"] = False  # レイアウトの自動調整を利用するかどうか\n",
    "plt.rcParams[\"figure.subplot.left\"] = 0.14  # 余白\n",
    "plt.rcParams[\"figure.subplot.bottom\"] = 0.14  # 余白\n",
    "plt.rcParams[\"figure.subplot.right\"] = 0.90  # 余白\n",
    "plt.rcParams[\"figure.subplot.top\"] = 0.91  # 余白\n",
    "plt.rcParams[\"figure.subplot.wspace\"] = 0.20  # 図が複数枚ある時の左右との余白\n",
    "plt.rcParams[\"figure.subplot.hspace\"] = 0.20  # 図が複数枚ある時の上下との余白\n",
    "\n",
    "# フォントの設定\n",
    "plt.rcParams[\"font.family\"] = \"serif\"  # 使用するフォント\n",
    "plt.rcParams[\"font.serif\"] = \"Calibri\"\n",
    "plt.rcParams[\"font.size\"] = 14  # 基本となるフォントの大きさ\n",
    "plt.rcParams[\"mathtext.cal\"] = \"serif\"  # TeX表記に関するフォント設定\n",
    "plt.rcParams[\"mathtext.rm\"] = \"serif\"  # TeX表記に関するフォント設定\n",
    "plt.rcParams[\"mathtext.fontset\"] = \"custom\"  # TeX表記に関するフォント設定\n",
    "plt.rcParams[\"mathtext.it\"] = \"serif:bold:italic\"  # TeX表記に関するフ4ォント設定\n",
    "plt.rcParams[\"mathtext.bf\"] = \"serif:bold\"  # TeX表記に関するフォント設定\n",
    "\n",
    "# メモリ線の設定\n",
    "plt.rcParams[\"xtick.direction\"] = \"in\"  # 目盛り線の向き、内側'in'か外側'out'かその両方'inout'か\n",
    "plt.rcParams[\"ytick.direction\"] = \"in\"  # 目盛り線の向き、内側'in'か外側'out'かその両方'inout'か\n",
    "\n",
    "plt.rcParams[\"xtick.top\"] = True  # 上部に目盛り線を描くかどうか\n",
    "plt.rcParams[\"xtick.bottom\"] = True  # 下部に目盛り線を描くかどうか\n",
    "plt.rcParams[\"ytick.left\"] = True  # 左部に目盛り線を描くかどうか\n",
    "plt.rcParams[\"ytick.right\"] = True  # 右部に目盛り線を描くかどうか\n",
    "\n",
    "plt.rcParams[\"xtick.major.size\"] = 4.0  # x軸主目盛り線の長さ\n",
    "plt.rcParams[\"ytick.major.size\"] = 4.0  # y軸主目盛り線の長さ\n",
    "plt.rcParams[\"xtick.major.width\"] = 1.0  # x軸主目盛り線の線幅\n",
    "plt.rcParams[\"ytick.major.width\"] = 1.0  # y軸主目盛り線の線幅\n",
    "\n",
    "plt.rcParams[\"xtick.minor.visible\"] = True  # x軸副目盛り線を描くかどうか\n",
    "plt.rcParams[\"ytick.minor.visible\"] = True  # y軸副目盛り線を描くかどうか\n",
    "plt.rcParams[\"xtick.minor.size\"] = 2.0  # x軸副目盛り線の長さ\n",
    "plt.rcParams[\"ytick.minor.size\"] = 2.0  # y軸副目盛り線の長さ\n",
    "plt.rcParams[\"xtick.minor.width\"] = 0.6  # x軸副目盛り線の線幅\n",
    "plt.rcParams[\"ytick.minor.width\"] = 0.6  # y軸副目盛り線の線幅\n",
    "\n",
    "plt.rcParams[\"xtick.labelsize\"] = 14  # 目盛りのフォントサイズ\n",
    "plt.rcParams[\"ytick.labelsize\"] = 14  # 目盛りのフォントサイズ\n",
    "\n",
    "# 軸に関する設定\n",
    "plt.rcParams[\"axes.labelsize\"] = 16  # 軸ラベルのフォントサイズ\n",
    "plt.rcParams[\"axes.linewidth\"] = 1.0  # グラフ囲う線の太さ\n",
    "plt.rcParams[\"axes.grid\"] = False  # グリッドを表示するかどうか\n",
    "plt.rcParams[\"axes.titleweight\"] = \"bold\"  # 基本となるフォントの大きさ\n",
    "plt.rcParams[\"axes.labelweight\"] = \"bold\"  # 基本となるフォントの大きさ\n",
    "\n",
    "# グリッドに関する設定\n",
    "plt.rcParams[\"grid.color\"] = \"black\"  # グリッドの色\n",
    "plt.rcParams[\"grid.linewidth\"] = 0  # グリッドの線幅\n",
    "\n",
    "# 凡例に関する設定\n",
    "plt.rcParams[\"legend.loc\"] = \"right\"  # 凡例の位置、'best'でいい感じのところ\n",
    "plt.rcParams[\"legend.frameon\"] = True  # 凡例を囲うかどうか、Trueで囲う、Falseで囲わない\n",
    "plt.rcParams[\"legend.framealpha\"] = 0.5  # 透過度、0.0から1.0の値を入れる\n",
    "plt.rcParams[\"legend.facecolor\"] = \"white\"  # 背景色\n",
    "plt.rcParams[\"legend.edgecolor\"] = \"black\"  # 囲いの色\n",
    "plt.rcParams[\"legend.fancybox\"] = True  # Trueにすると囲いの四隅が丸くなる"
   ]
  }
 ],
 "metadata": {
  "kernelspec": {
   "display_name": "U-net_program",
   "language": "python",
   "name": "python3"
  },
  "language_info": {
   "codemirror_mode": {
    "name": "ipython",
    "version": 3
   },
   "file_extension": ".py",
   "mimetype": "text/x-python",
   "name": "python",
   "nbconvert_exporter": "python",
   "pygments_lexer": "ipython3",
   "version": "3.8.8"
  },
  "orig_nbformat": 4
 },
 "nbformat": 4,
 "nbformat_minor": 2
}
